{
 "cells": [
  {
   "cell_type": "code",
   "execution_count": 1,
   "id": "a054a392",
   "metadata": {},
   "outputs": [],
   "source": [
    "import pandas as pd"
   ]
  },
  {
   "cell_type": "code",
   "execution_count": 2,
   "id": "2f63ddf8",
   "metadata": {},
   "outputs": [],
   "source": [
    "df = pd.read_csv(\"spotify_millsongdata.csv\")"
   ]
  },
  {
   "cell_type": "code",
   "execution_count": 3,
   "id": "fe0d7e9a",
   "metadata": {},
   "outputs": [
    {
     "data": {
      "text/html": [
       "<div>\n",
       "<style scoped>\n",
       "    .dataframe tbody tr th:only-of-type {\n",
       "        vertical-align: middle;\n",
       "    }\n",
       "\n",
       "    .dataframe tbody tr th {\n",
       "        vertical-align: top;\n",
       "    }\n",
       "\n",
       "    .dataframe thead th {\n",
       "        text-align: right;\n",
       "    }\n",
       "</style>\n",
       "<table border=\"1\" class=\"dataframe\">\n",
       "  <thead>\n",
       "    <tr style=\"text-align: right;\">\n",
       "      <th></th>\n",
       "      <th>artist</th>\n",
       "      <th>song</th>\n",
       "      <th>link</th>\n",
       "      <th>text</th>\n",
       "    </tr>\n",
       "  </thead>\n",
       "  <tbody>\n",
       "    <tr>\n",
       "      <th>0</th>\n",
       "      <td>ABBA</td>\n",
       "      <td>Ahe's My Kind Of Girl</td>\n",
       "      <td>/a/abba/ahes+my+kind+of+girl_20598417.html</td>\n",
       "      <td>Look at her face, it's a wonderful face  \\r\\nA...</td>\n",
       "    </tr>\n",
       "    <tr>\n",
       "      <th>1</th>\n",
       "      <td>ABBA</td>\n",
       "      <td>Andante, Andante</td>\n",
       "      <td>/a/abba/andante+andante_20002708.html</td>\n",
       "      <td>Take it easy with me, please  \\r\\nTouch me gen...</td>\n",
       "    </tr>\n",
       "    <tr>\n",
       "      <th>2</th>\n",
       "      <td>ABBA</td>\n",
       "      <td>As Good As New</td>\n",
       "      <td>/a/abba/as+good+as+new_20003033.html</td>\n",
       "      <td>I'll never know why I had to go  \\r\\nWhy I had...</td>\n",
       "    </tr>\n",
       "    <tr>\n",
       "      <th>3</th>\n",
       "      <td>ABBA</td>\n",
       "      <td>Bang</td>\n",
       "      <td>/a/abba/bang_20598415.html</td>\n",
       "      <td>Making somebody happy is a question of give an...</td>\n",
       "    </tr>\n",
       "    <tr>\n",
       "      <th>4</th>\n",
       "      <td>ABBA</td>\n",
       "      <td>Bang-A-Boomerang</td>\n",
       "      <td>/a/abba/bang+a+boomerang_20002668.html</td>\n",
       "      <td>Making somebody happy is a question of give an...</td>\n",
       "    </tr>\n",
       "  </tbody>\n",
       "</table>\n",
       "</div>"
      ],
      "text/plain": [
       "  artist                   song                                        link  \\\n",
       "0   ABBA  Ahe's My Kind Of Girl  /a/abba/ahes+my+kind+of+girl_20598417.html   \n",
       "1   ABBA       Andante, Andante       /a/abba/andante+andante_20002708.html   \n",
       "2   ABBA         As Good As New        /a/abba/as+good+as+new_20003033.html   \n",
       "3   ABBA                   Bang                  /a/abba/bang_20598415.html   \n",
       "4   ABBA       Bang-A-Boomerang      /a/abba/bang+a+boomerang_20002668.html   \n",
       "\n",
       "                                                text  \n",
       "0  Look at her face, it's a wonderful face  \\r\\nA...  \n",
       "1  Take it easy with me, please  \\r\\nTouch me gen...  \n",
       "2  I'll never know why I had to go  \\r\\nWhy I had...  \n",
       "3  Making somebody happy is a question of give an...  \n",
       "4  Making somebody happy is a question of give an...  "
      ]
     },
     "execution_count": 3,
     "metadata": {},
     "output_type": "execute_result"
    }
   ],
   "source": [
    "df.head(5)"
   ]
  },
  {
   "cell_type": "code",
   "execution_count": 4,
   "id": "9eb39874",
   "metadata": {},
   "outputs": [
    {
     "data": {
      "text/html": [
       "<div>\n",
       "<style scoped>\n",
       "    .dataframe tbody tr th:only-of-type {\n",
       "        vertical-align: middle;\n",
       "    }\n",
       "\n",
       "    .dataframe tbody tr th {\n",
       "        vertical-align: top;\n",
       "    }\n",
       "\n",
       "    .dataframe thead th {\n",
       "        text-align: right;\n",
       "    }\n",
       "</style>\n",
       "<table border=\"1\" class=\"dataframe\">\n",
       "  <thead>\n",
       "    <tr style=\"text-align: right;\">\n",
       "      <th></th>\n",
       "      <th>artist</th>\n",
       "      <th>song</th>\n",
       "      <th>link</th>\n",
       "      <th>text</th>\n",
       "    </tr>\n",
       "  </thead>\n",
       "  <tbody>\n",
       "    <tr>\n",
       "      <th>57645</th>\n",
       "      <td>Ziggy Marley</td>\n",
       "      <td>Good Old Days</td>\n",
       "      <td>/z/ziggy+marley/good+old+days_10198588.html</td>\n",
       "      <td>Irie days come on play  \\r\\nLet the angels fly...</td>\n",
       "    </tr>\n",
       "    <tr>\n",
       "      <th>57646</th>\n",
       "      <td>Ziggy Marley</td>\n",
       "      <td>Hand To Mouth</td>\n",
       "      <td>/z/ziggy+marley/hand+to+mouth_20531167.html</td>\n",
       "      <td>Power to the workers  \\r\\nMore power  \\r\\nPowe...</td>\n",
       "    </tr>\n",
       "    <tr>\n",
       "      <th>57647</th>\n",
       "      <td>Zwan</td>\n",
       "      <td>Come With Me</td>\n",
       "      <td>/z/zwan/come+with+me_20148981.html</td>\n",
       "      <td>all you need  \\r\\nis something i'll believe  \\...</td>\n",
       "    </tr>\n",
       "    <tr>\n",
       "      <th>57648</th>\n",
       "      <td>Zwan</td>\n",
       "      <td>Desire</td>\n",
       "      <td>/z/zwan/desire_20148986.html</td>\n",
       "      <td>northern star  \\r\\nam i frightened  \\r\\nwhere ...</td>\n",
       "    </tr>\n",
       "    <tr>\n",
       "      <th>57649</th>\n",
       "      <td>Zwan</td>\n",
       "      <td>Heartsong</td>\n",
       "      <td>/z/zwan/heartsong_20148991.html</td>\n",
       "      <td>come in  \\r\\nmake yourself at home  \\r\\ni'm a ...</td>\n",
       "    </tr>\n",
       "  </tbody>\n",
       "</table>\n",
       "</div>"
      ],
      "text/plain": [
       "             artist           song  \\\n",
       "57645  Ziggy Marley  Good Old Days   \n",
       "57646  Ziggy Marley  Hand To Mouth   \n",
       "57647          Zwan   Come With Me   \n",
       "57648          Zwan         Desire   \n",
       "57649          Zwan      Heartsong   \n",
       "\n",
       "                                              link  \\\n",
       "57645  /z/ziggy+marley/good+old+days_10198588.html   \n",
       "57646  /z/ziggy+marley/hand+to+mouth_20531167.html   \n",
       "57647           /z/zwan/come+with+me_20148981.html   \n",
       "57648                 /z/zwan/desire_20148986.html   \n",
       "57649              /z/zwan/heartsong_20148991.html   \n",
       "\n",
       "                                                    text  \n",
       "57645  Irie days come on play  \\r\\nLet the angels fly...  \n",
       "57646  Power to the workers  \\r\\nMore power  \\r\\nPowe...  \n",
       "57647  all you need  \\r\\nis something i'll believe  \\...  \n",
       "57648  northern star  \\r\\nam i frightened  \\r\\nwhere ...  \n",
       "57649  come in  \\r\\nmake yourself at home  \\r\\ni'm a ...  "
      ]
     },
     "execution_count": 4,
     "metadata": {},
     "output_type": "execute_result"
    }
   ],
   "source": [
    "df.tail(5)"
   ]
  },
  {
   "cell_type": "code",
   "execution_count": 5,
   "id": "10654a22",
   "metadata": {},
   "outputs": [],
   "source": [
    "df = df.sample(min(10000, len(df)), replace=False).drop('link', axis=1).reset_index(drop=True)\n"
   ]
  },
  {
   "cell_type": "code",
   "execution_count": 6,
   "id": "ecdffa01",
   "metadata": {},
   "outputs": [
    {
     "data": {
      "text/html": [
       "<div>\n",
       "<style scoped>\n",
       "    .dataframe tbody tr th:only-of-type {\n",
       "        vertical-align: middle;\n",
       "    }\n",
       "\n",
       "    .dataframe tbody tr th {\n",
       "        vertical-align: top;\n",
       "    }\n",
       "\n",
       "    .dataframe thead th {\n",
       "        text-align: right;\n",
       "    }\n",
       "</style>\n",
       "<table border=\"1\" class=\"dataframe\">\n",
       "  <thead>\n",
       "    <tr style=\"text-align: right;\">\n",
       "      <th></th>\n",
       "      <th>artist</th>\n",
       "      <th>song</th>\n",
       "      <th>text</th>\n",
       "    </tr>\n",
       "  </thead>\n",
       "  <tbody>\n",
       "    <tr>\n",
       "      <th>0</th>\n",
       "      <td>Bette Midler</td>\n",
       "      <td>Buckets Of Rain</td>\n",
       "      <td>Ohh oh, ohh oh, ah  \\r\\nSing to me baby, baby ...</td>\n",
       "    </tr>\n",
       "    <tr>\n",
       "      <th>1</th>\n",
       "      <td>Elton John</td>\n",
       "      <td>Dreamboat</td>\n",
       "      <td>Steamboat waiting by the waterside  \\r\\nSunlig...</td>\n",
       "    </tr>\n",
       "    <tr>\n",
       "      <th>2</th>\n",
       "      <td>Kirsty Maccoll</td>\n",
       "      <td>Manhattan Moon</td>\n",
       "      <td>The ship was heaving with a mass of humankind ...</td>\n",
       "    </tr>\n",
       "    <tr>\n",
       "      <th>3</th>\n",
       "      <td>Everlast</td>\n",
       "      <td>Die In Yer Arms</td>\n",
       "      <td>[Chorus:]  \\r\\nGirl I wanna die in your arms t...</td>\n",
       "    </tr>\n",
       "    <tr>\n",
       "      <th>4</th>\n",
       "      <td>Garth Brooks</td>\n",
       "      <td>She's Gonna Make It</td>\n",
       "      <td>He followed her to work this morning  \\r\\nHe'd...</td>\n",
       "    </tr>\n",
       "    <tr>\n",
       "      <th>5</th>\n",
       "      <td>Ray Charles</td>\n",
       "      <td>Georgia On My Mind</td>\n",
       "      <td>Georgia, Georgia,  \\r\\nThe whole day through  ...</td>\n",
       "    </tr>\n",
       "    <tr>\n",
       "      <th>6</th>\n",
       "      <td>Demi Lovato</td>\n",
       "      <td>This Is Me</td>\n",
       "      <td>I've always been the kind of girl  \\r\\nThat hi...</td>\n",
       "    </tr>\n",
       "    <tr>\n",
       "      <th>7</th>\n",
       "      <td>Louis Armstrong</td>\n",
       "      <td>Autumn In New York</td>\n",
       "      <td>Autumn in New York  \\r\\nWhy does it seem so in...</td>\n",
       "    </tr>\n",
       "    <tr>\n",
       "      <th>8</th>\n",
       "      <td>Willie Nelson</td>\n",
       "      <td>As Time Goes By</td>\n",
       "      <td>This day and age we're living in  \\r\\nGives ca...</td>\n",
       "    </tr>\n",
       "    <tr>\n",
       "      <th>9</th>\n",
       "      <td>Ten Years After</td>\n",
       "      <td>I'm Going Home</td>\n",
       "      <td>Goin' home, my baby  \\r\\nGoin' home, my baby  ...</td>\n",
       "    </tr>\n",
       "  </tbody>\n",
       "</table>\n",
       "</div>"
      ],
      "text/plain": [
       "            artist                 song  \\\n",
       "0     Bette Midler      Buckets Of Rain   \n",
       "1       Elton John            Dreamboat   \n",
       "2   Kirsty Maccoll       Manhattan Moon   \n",
       "3         Everlast      Die In Yer Arms   \n",
       "4     Garth Brooks  She's Gonna Make It   \n",
       "5      Ray Charles   Georgia On My Mind   \n",
       "6      Demi Lovato           This Is Me   \n",
       "7  Louis Armstrong   Autumn In New York   \n",
       "8    Willie Nelson      As Time Goes By   \n",
       "9  Ten Years After       I'm Going Home   \n",
       "\n",
       "                                                text  \n",
       "0  Ohh oh, ohh oh, ah  \\r\\nSing to me baby, baby ...  \n",
       "1  Steamboat waiting by the waterside  \\r\\nSunlig...  \n",
       "2  The ship was heaving with a mass of humankind ...  \n",
       "3  [Chorus:]  \\r\\nGirl I wanna die in your arms t...  \n",
       "4  He followed her to work this morning  \\r\\nHe'd...  \n",
       "5  Georgia, Georgia,  \\r\\nThe whole day through  ...  \n",
       "6  I've always been the kind of girl  \\r\\nThat hi...  \n",
       "7  Autumn in New York  \\r\\nWhy does it seem so in...  \n",
       "8  This day and age we're living in  \\r\\nGives ca...  \n",
       "9  Goin' home, my baby  \\r\\nGoin' home, my baby  ...  "
      ]
     },
     "execution_count": 6,
     "metadata": {},
     "output_type": "execute_result"
    }
   ],
   "source": [
    "df.head(10)"
   ]
  },
  {
   "cell_type": "code",
   "execution_count": 7,
   "id": "5239483f",
   "metadata": {},
   "outputs": [
    {
     "data": {
      "text/plain": [
       "\"No shadow  \\r\\nNo stars  \\r\\nNo moon  \\r\\nNo care  \\r\\nNovember  \\r\\nIt only believes  \\r\\nIn a pile of dead leaves  \\r\\nAnd a moon  \\r\\nThat's the color of bone  \\r\\n  \\r\\nNo prayers for November  \\r\\nTo linger longer  \\r\\nStick your spoon in the wall  \\r\\nWe'll slaughter them all  \\r\\n  \\r\\nNovember has tied me  \\r\\nTo an old dead tree  \\r\\nGet word to April  \\r\\nTo rescue me  \\r\\nNovember's cold chain  \\r\\n  \\r\\nMade of wet boots and rain  \\r\\nAnd shiny black ravens  \\r\\nOn chimney smoke lanes  \\r\\nNovember seems odd  \\r\\nYou're my firing squad  \\r\\nNovember  \\r\\n  \\r\\nWith my hair slicked back  \\r\\nWith carrion shellac  \\r\\nWith the blood from a pheasant  \\r\\nAnd the bone from a hare  \\r\\n  \\r\\nTied to the branches  \\r\\nOf a roebuck stag  \\r\\nLeft to wave in the timber  \\r\\nLike a buck shot flag  \\r\\n  \\r\\nGo away you rainsnout  \\r\\nGo away, blow your brains out  \\r\\nNovember\\r\\n\\r\\n\""
      ]
     },
     "execution_count": 7,
     "metadata": {},
     "output_type": "execute_result"
    }
   ],
   "source": [
    "df['text'][5476]"
   ]
  },
  {
   "cell_type": "code",
   "execution_count": 8,
   "id": "1f04fca3",
   "metadata": {},
   "outputs": [
    {
     "data": {
      "text/plain": [
       "(10000, 3)"
      ]
     },
     "execution_count": 8,
     "metadata": {},
     "output_type": "execute_result"
    }
   ],
   "source": [
    "df.shape"
   ]
  },
  {
   "cell_type": "code",
   "execution_count": 9,
   "id": "e47da51d",
   "metadata": {},
   "outputs": [],
   "source": [
    "df['text'] = df['text'].str.lower().replace(r'^\\w\\s', ' ').replace(r'\\n', ' ', regex = True)"
   ]
  },
  {
   "cell_type": "code",
   "execution_count": 10,
   "id": "1f629a0e",
   "metadata": {},
   "outputs": [],
   "source": [
    "import nltk\n",
    "from nltk.stem.porter import PorterStemmer\n",
    "stemmer = PorterStemmer()\n",
    "\n",
    "def tokenization(txt):\n",
    "    tokens = nltk.word_tokenize(txt)\n",
    "    stemming = [stemmer.stem(w) for w in tokens]\n",
    "    return \" \".join(stemming)"
   ]
  },
  {
   "cell_type": "code",
   "execution_count": 11,
   "id": "fde0eb66",
   "metadata": {},
   "outputs": [],
   "source": [
    "df['text'] = df['text'].apply(lambda x: tokenization(x))"
   ]
  },
  {
   "cell_type": "code",
   "execution_count": 12,
   "id": "404f81c5",
   "metadata": {},
   "outputs": [],
   "source": [
    "from sklearn.feature_extraction.text import TfidfVectorizer\n",
    "from sklearn.metrics.pairwise import cosine_similarity"
   ]
  },
  {
   "cell_type": "code",
   "execution_count": 13,
   "id": "45fcd183",
   "metadata": {},
   "outputs": [],
   "source": [
    "tfidvector = TfidfVectorizer(analyzer='word',stop_words='english')\n",
    "matrix = tfidvector.fit_transform(df['text'])\n",
    "similarity = cosine_similarity(matrix)"
   ]
  },
  {
   "cell_type": "code",
   "execution_count": 14,
   "id": "37d03e2f",
   "metadata": {},
   "outputs": [
    {
     "data": {
      "text/plain": [
       "array([1.        , 0.02443132, 0.01272895, ..., 0.03333394, 0.03960577,\n",
       "       0.07181668])"
      ]
     },
     "execution_count": 14,
     "metadata": {},
     "output_type": "execute_result"
    }
   ],
   "source": [
    "similarity[0]"
   ]
  },
  {
   "cell_type": "code",
   "execution_count": 15,
   "id": "da778430",
   "metadata": {},
   "outputs": [
    {
     "data": {
      "text/html": [
       "<div>\n",
       "<style scoped>\n",
       "    .dataframe tbody tr th:only-of-type {\n",
       "        vertical-align: middle;\n",
       "    }\n",
       "\n",
       "    .dataframe tbody tr th {\n",
       "        vertical-align: top;\n",
       "    }\n",
       "\n",
       "    .dataframe thead th {\n",
       "        text-align: right;\n",
       "    }\n",
       "</style>\n",
       "<table border=\"1\" class=\"dataframe\">\n",
       "  <thead>\n",
       "    <tr style=\"text-align: right;\">\n",
       "      <th></th>\n",
       "      <th>artist</th>\n",
       "      <th>song</th>\n",
       "      <th>text</th>\n",
       "    </tr>\n",
       "  </thead>\n",
       "  <tbody>\n",
       "    <tr>\n",
       "      <th>0</th>\n",
       "      <td>Bette Midler</td>\n",
       "      <td>Buckets Of Rain</td>\n",
       "      <td>ohh oh , ohh oh , ah sing to me babi , babi bu...</td>\n",
       "    </tr>\n",
       "    <tr>\n",
       "      <th>1</th>\n",
       "      <td>Elton John</td>\n",
       "      <td>Dreamboat</td>\n",
       "      <td>steamboat wait by the watersid sunlight shine ...</td>\n",
       "    </tr>\n",
       "    <tr>\n",
       "      <th>2</th>\n",
       "      <td>Kirsty Maccoll</td>\n",
       "      <td>Manhattan Moon</td>\n",
       "      <td>the ship wa heav with a mass of humankind my h...</td>\n",
       "    </tr>\n",
       "    <tr>\n",
       "      <th>3</th>\n",
       "      <td>Everlast</td>\n",
       "      <td>Die In Yer Arms</td>\n",
       "      <td>[ choru : ] girl i wan na die in your arm toni...</td>\n",
       "    </tr>\n",
       "    <tr>\n",
       "      <th>4</th>\n",
       "      <td>Garth Brooks</td>\n",
       "      <td>She's Gonna Make It</td>\n",
       "      <td>he follow her to work thi morn he 'd never see...</td>\n",
       "    </tr>\n",
       "    <tr>\n",
       "      <th>...</th>\n",
       "      <td>...</td>\n",
       "      <td>...</td>\n",
       "      <td>...</td>\n",
       "    </tr>\n",
       "    <tr>\n",
       "      <th>95</th>\n",
       "      <td>Status Quo</td>\n",
       "      <td>I Don't Remember Anymore</td>\n",
       "      <td>i do n't rememb anymor i woke up freezin ' on ...</td>\n",
       "    </tr>\n",
       "    <tr>\n",
       "      <th>96</th>\n",
       "      <td>Emmylou Harris</td>\n",
       "      <td>Fair And Tender Ladies</td>\n",
       "      <td>come all you fair and tender ladi take warn ho...</td>\n",
       "    </tr>\n",
       "    <tr>\n",
       "      <th>97</th>\n",
       "      <td>Ofra Haza</td>\n",
       "      <td>Ode Le'eli</td>\n",
       "      <td>ode le'e konani tzur pa'ali hua yishma'ah koli...</td>\n",
       "    </tr>\n",
       "    <tr>\n",
       "      <th>98</th>\n",
       "      <td>Kiss</td>\n",
       "      <td>Man Of 1,000 Faces</td>\n",
       "      <td>i walk the street by day , i never know quit w...</td>\n",
       "    </tr>\n",
       "    <tr>\n",
       "      <th>99</th>\n",
       "      <td>Utopia</td>\n",
       "      <td>Magic Dragon Theatre</td>\n",
       "      <td>look at all the advertis some kind of show , c...</td>\n",
       "    </tr>\n",
       "  </tbody>\n",
       "</table>\n",
       "<p>100 rows × 3 columns</p>\n",
       "</div>"
      ],
      "text/plain": [
       "            artist                      song  \\\n",
       "0     Bette Midler           Buckets Of Rain   \n",
       "1       Elton John                 Dreamboat   \n",
       "2   Kirsty Maccoll            Manhattan Moon   \n",
       "3         Everlast           Die In Yer Arms   \n",
       "4     Garth Brooks       She's Gonna Make It   \n",
       "..             ...                       ...   \n",
       "95      Status Quo  I Don't Remember Anymore   \n",
       "96  Emmylou Harris    Fair And Tender Ladies   \n",
       "97       Ofra Haza                Ode Le'eli   \n",
       "98            Kiss        Man Of 1,000 Faces   \n",
       "99          Utopia      Magic Dragon Theatre   \n",
       "\n",
       "                                                 text  \n",
       "0   ohh oh , ohh oh , ah sing to me babi , babi bu...  \n",
       "1   steamboat wait by the watersid sunlight shine ...  \n",
       "2   the ship wa heav with a mass of humankind my h...  \n",
       "3   [ choru : ] girl i wan na die in your arm toni...  \n",
       "4   he follow her to work thi morn he 'd never see...  \n",
       "..                                                ...  \n",
       "95  i do n't rememb anymor i woke up freezin ' on ...  \n",
       "96  come all you fair and tender ladi take warn ho...  \n",
       "97  ode le'e konani tzur pa'ali hua yishma'ah koli...  \n",
       "98  i walk the street by day , i never know quit w...  \n",
       "99  look at all the advertis some kind of show , c...  \n",
       "\n",
       "[100 rows x 3 columns]"
      ]
     },
     "execution_count": 15,
     "metadata": {},
     "output_type": "execute_result"
    }
   ],
   "source": [
    "df.head(100)"
   ]
  },
  {
   "cell_type": "code",
   "execution_count": 16,
   "id": "5908ef88",
   "metadata": {},
   "outputs": [
    {
     "data": {
      "text/html": [
       "<div>\n",
       "<style scoped>\n",
       "    .dataframe tbody tr th:only-of-type {\n",
       "        vertical-align: middle;\n",
       "    }\n",
       "\n",
       "    .dataframe tbody tr th {\n",
       "        vertical-align: top;\n",
       "    }\n",
       "\n",
       "    .dataframe thead th {\n",
       "        text-align: right;\n",
       "    }\n",
       "</style>\n",
       "<table border=\"1\" class=\"dataframe\">\n",
       "  <thead>\n",
       "    <tr style=\"text-align: right;\">\n",
       "      <th></th>\n",
       "      <th>artist</th>\n",
       "      <th>song</th>\n",
       "      <th>text</th>\n",
       "    </tr>\n",
       "  </thead>\n",
       "  <tbody>\n",
       "    <tr>\n",
       "      <th>4248</th>\n",
       "      <td>Miley Cyrus</td>\n",
       "      <td>SNL</td>\n",
       "      <td>do you wan na know whi i 'm here tonight well ...</td>\n",
       "    </tr>\n",
       "  </tbody>\n",
       "</table>\n",
       "</div>"
      ],
      "text/plain": [
       "           artist song                                               text\n",
       "4248  Miley Cyrus  SNL  do you wan na know whi i 'm here tonight well ..."
      ]
     },
     "execution_count": 16,
     "metadata": {},
     "output_type": "execute_result"
    }
   ],
   "source": [
    "df[df['song'] == 'SNL']"
   ]
  },
  {
   "cell_type": "code",
   "execution_count": 17,
   "id": "f757fa91",
   "metadata": {},
   "outputs": [],
   "source": [
    "def recommendation(song_df):\n",
    "    idx = df[df['song'] == song_df].index[0]\n",
    "    distances = sorted(list(enumerate(similarity[idx])),reverse=True,key=lambda x:x[1])\n",
    "    \n",
    "    songs = []\n",
    "    for m_id in distances[1:7]:\n",
    "        songs.append(df.iloc[m_id[0]].song)\n",
    "        \n",
    "    return songs"
   ]
  },
  {
   "cell_type": "code",
   "execution_count": 18,
   "id": "1103d5b4",
   "metadata": {},
   "outputs": [
    {
     "data": {
      "text/plain": [
       "['Capri Calling',\n",
       " 'Party Dance',\n",
       " 'Man We Had A Party',\n",
       " 'Right There',\n",
       " 'Give Myself A Party',\n",
       " 'More Than A Party']"
      ]
     },
     "execution_count": 18,
     "metadata": {},
     "output_type": "execute_result"
    }
   ],
   "source": [
    "\n",
    "recommendation('SNL')"
   ]
  },
  {
   "cell_type": "code",
   "execution_count": 19,
   "id": "86815b43",
   "metadata": {},
   "outputs": [],
   "source": [
    "import pickle\n",
    "pickle.dump(similarity,open('similarity.pkl','wb'))\n",
    "pickle.dump(df,open('df.pkl','wb'))"
   ]
  },
  {
   "cell_type": "code",
   "execution_count": null,
   "id": "ac06b57f",
   "metadata": {},
   "outputs": [],
   "source": []
  }
 ],
 "metadata": {
  "kernelspec": {
   "display_name": "Python 3 (ipykernel)",
   "language": "python",
   "name": "python3"
  },
  "language_info": {
   "codemirror_mode": {
    "name": "ipython",
    "version": 3
   },
   "file_extension": ".py",
   "mimetype": "text/x-python",
   "name": "python",
   "nbconvert_exporter": "python",
   "pygments_lexer": "ipython3",
   "version": "3.11.3"
  }
 },
 "nbformat": 4,
 "nbformat_minor": 5
}
